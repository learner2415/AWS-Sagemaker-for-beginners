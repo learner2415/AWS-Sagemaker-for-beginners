{
 "cells": [
  {
   "cell_type": "code",
   "execution_count": null,
   "metadata": {},
   "outputs": [],
   "source": [
    "#Panda has the ability to read from S3 bucket\n",
    "import pandas as pd\n",
    "bucket = 'sagemakerdemotp'\n",
    "file_name = 'sign_mnist_test.csv'\n",
    "data_location = 's3://{}/{}'.format(bucket, file_name)\n",
    "df = pd.read_csv(data_location)\n",
    "##df = pd.read_csv('s3://sagemakerdemotp/sign_mnist_test.csv')\n",
    "\n",
    "from matplotlib import pyplot as plt\n",
    "pic=df.head(1).values[0][1:].reshape((28,28))\n",
    "plt.imshow(pic, cmap='gray')\n",
    "plt.show()\n"
   ]
  },
  {
   "cell_type": "code",
   "execution_count": null,
   "metadata": {},
   "outputs": [],
   "source": [
    "#To Use inbuilt Sagemaker algorithm we need to convert CSV format into RecordIO #protobuf format\n",
    "\n",
    "from sagemaker.amazon.common import write_numpy_to_dense_tensor\n",
    "import io\n",
    "from io import StringIO\n",
    "import boto3\n",
    "\n",
    "def convert_and_upload(pixs, labels, bucket_name, data_file):\n",
    "\tbuf = io.BytesIO()\n",
    "\twrite_numpy_to_dense_tensor(buf, pixs, labels)\n",
    "\tbuf.seek(0)\n",
    "\n",
    "\tboto3.resource('s3').Bucket(bucket_name).Object(data_file).upload_fileobj(buf)\n",
    "\n",
    "pixels_train=df.drop('label', axis=1).values\n",
    "labels_train=df['label'].values\n",
    "\n",
    "convert_and_upload(pixels_train, labels_train, bucket, 'sign_mnist_train_rec')\n",
    "convert_and_upload(pixels_train, labels_train, bucket, 'sign_mnist_test_rec')\n"
   ]
  },
  {
   "cell_type": "code",
   "execution_count": null,
   "metadata": {},
   "outputs": [],
   "source": [
    "#Training the Model using Knn algorithm\n",
    "import sagemaker\n",
    "from sagemaker import get_execution_role\n",
    "from sagemaker.amazon.amazon_estimator import get_image_uri\n",
    "knn=sagemaker.estimator.Estimator(get_image_uri(\n",
    "\tboto3.Session().region_name,\"knn\"),\n",
    "\tget_execution_role(),\n",
    "\ttrain_instance_count=1,\n",
    "\ttrain_instance_type='ml.m4.xlarge',\n",
    "\toutput_path='s3://{}/output'.format(bucket),\n",
    "\tsagemaker_session=sagemaker.Session())\n",
    "\n",
    "knn.set_hyperparameters(**{\n",
    "\t'k': 10,\n",
    "\t'predictor_type': 'classifier',\n",
    "\t'feature_dim': 784,\n",
    "\t'sample_size': 27455\n",
    "})\n",
    "in_config_test = sagemaker.s3_input(\n",
    "\t   s3_data='s3://{}/{}'.format(bucket,'sign_mnist_test_rec'))\n",
    "\n",
    "in_config_train = sagemaker.s3_input(\n",
    "\t   s3_data='s3://{}/{}'.format(bucket,'sign_mnist_train_rec'))\n",
    "\n",
    "knn.fit({'train':in_config_train, 'test': in_config_test})\n"
   ]
  },
  {
   "cell_type": "code",
   "execution_count": null,
   "metadata": {},
   "outputs": [],
   "source": [
    "#Deploying Model \n",
    "import time\n",
    "\n",
    "def get_predictor(knn_estimator, estimator_name, instance_type, endpoint_name=None): \n",
    "    knn_predictor = knn_estimator.deploy(initial_instance_count=1, instance_type=instance_type,\n",
    "                                        endpoint_name=endpoint_name)\n",
    "    knn_predictor.content_type = 'text/csv'\n",
    "    return knn_predictor\n",
    "\n",
    "\n",
    "instance_type = 'ml.m5.xlarge'\n",
    "model_name = 'knn_%s'% instance_type\n",
    "endpoint_name = 'knn-ml-%s'% (str(time.time()).replace('.','-'))\n",
    "predictor = get_predictor(knn, model_name, instance_type, endpoint_name=endpoint_name)\n"
   ]
  },
  {
   "cell_type": "code",
   "execution_count": null,
   "metadata": {},
   "outputs": [],
   "source": [
    "#Invoking it \n",
    "file = open(\"path_to_test_file.csv\",\"rb\")\n",
    "predictor.predict(file)\n"
   ]
  }
 ],
 "metadata": {
  "kernelspec": {
   "display_name": "Python 3",
   "language": "python",
   "name": "python3"
  },
  "language_info": {
   "codemirror_mode": {
    "name": "ipython",
    "version": 3
   },
   "file_extension": ".py",
   "mimetype": "text/x-python",
   "name": "python",
   "nbconvert_exporter": "python",
   "pygments_lexer": "ipython3",
   "version": "3.7.3"
  }
 },
 "nbformat": 4,
 "nbformat_minor": 2
}
